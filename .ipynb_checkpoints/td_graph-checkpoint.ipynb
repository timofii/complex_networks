{
 "cells": [
  {
   "cell_type": "code",
   "execution_count": 330,
   "metadata": {},
   "outputs": [],
   "source": [
    "\"\"\" CR15 graph library \"\"\"\n",
    "class Graph(object):\n",
    "\n",
    "    def __init__(self, graph_dict=None):\n",
    "        \"\"\" initializes a graph object \"\"\"\n",
    "        if graph_dict:\n",
    "            self.__graph_dict = graph_dict\n",
    "        else:\n",
    "            self.__graph_dict = dict()\n",
    "\n",
    "    def vertices(self):\n",
    "        \"\"\" returns the vertices of a graph \"\"\"\n",
    "        return list(self.__graph_dict.keys())\n",
    "\n",
    "    def edges(self):\n",
    "        \"\"\" returns the edges of a graph \"\"\"\n",
    "        return self.__generate_edges()\n",
    "\n",
    "    def add_vertex(self, vertex):\n",
    "        \"\"\" If vertex is not in self.__graph_dict, a key \"vertex\" with an empty\n",
    "        list as a value is added to the dictionary. Otherwise nothing has to be \n",
    "        done. To complete.\"\"\"\n",
    "        if not vertex in self.vertices():\n",
    "            self.__graph_dict[vertex] = []\n",
    "        \n",
    "    def add_edge(self, edge):\n",
    "        \"\"\" assumes that edge is of type set, tuple or list. No loops or \n",
    "        multiple edges. To complete.\"\"\"\n",
    "        for vertex in edge:\n",
    "            if not vertex in self.vertices():\n",
    "                return False\n",
    "        vertex_1,vertex_2 = edge\n",
    "        if not vertex_2 in self.__graph_dict[vertex_1]:# forget to check this condition\n",
    "            self.__graph_dict[vertex_1].append(vertex_2)\n",
    "            self.__graph_dict[vertex_2].append(vertex_1)\n",
    "\n",
    "    def __generate_edges(self):\n",
    "        \"\"\" A static method generating the edges of the graph \"graph\". Edges \n",
    "        are represented as sets two vertices, with no loops. To complete.\"\"\"\n",
    "        edges = []\n",
    "        for vertex_1 in self.__graph_dict.keys():\n",
    "            for vertex_2 in self.__graph_dict[vertex_1]:\n",
    "                if not set([vertex_1, vertex_2]) in edges:\n",
    "                    edges.append(set([vertex_1, vertex_2]))\n",
    "        return edges\n",
    "    \n",
    "    def vertex_degree(self, vertex=None):\n",
    "        \"\"\"Outputs the degree of each vertex of the graph in a format of your choosing\"\"\"\n",
    "        if vertex == None:\n",
    "            degrees = []\n",
    "            for vertex in self.__graph_dict.keys():\n",
    "                degrees.append((vertex, len(self.__graph_dict[vertex])))\n",
    "            return degrees\n",
    "        else:\n",
    "            return len(self.__graph_dict[vertex])\n",
    "\n",
    "        \n",
    "    def find_isolated_vertices(self):\n",
    "        \"\"\"Outputs the list of isolated vertices in a graph degree = 0\"\"\"\n",
    "        degrees = self.vertex_degree()\n",
    "        isolated_vertices = []\n",
    "        for vertex in degrees:\n",
    "            if vertex[1] == 0:\n",
    "                isolated_vertices.append(vertex)\n",
    "        return isolated_vertices\n",
    "       \n",
    "    def density(self):\n",
    "        \"\"\"density = #edges/#fully_conected_graph\"\"\"\n",
    "        number_of_edges = len(self.__generate_edges())\n",
    "        \n",
    "        number_of_vertecies = len(list(self.__graph_dict.keys()))\n",
    "        print(number_of_vertecies)\n",
    "        #fully_conected_graph = number_of_vertecies*(number_of_vertecies - 1)/2\n",
    "        #return number_of_edges/fully_conected_graph\n",
    "\n",
    "    G = {\n",
    "      \"a\": [\"c\", \"d\", \"g\"],\n",
    "      \"b\": [\"c\", \"f\"],\n",
    "      \"c\": [\"a\", \"b\", \"d\", \"f\"],\n",
    "      \"d\": [\"a\", \"c\", \"e\", \"g\"],\n",
    "      \"e\": [\"d\"],\n",
    "      \"f\": [\"b\", \"c\"],\n",
    "      \"g\": [\"a\", \"d\"]\n",
    "    }\n",
    "    graph = Graph(G)\n",
    "    \n",
    "    "
   ]
  },
  {
   "cell_type": "code",
   "execution_count": 332,
   "metadata": {},
   "outputs": [
    {
     "name": "stdout",
     "output_type": "stream",
     "text": [
      "[('a', 3), ('b', 2), ('c', 4), ('d', 4), ('e', 1), ('f', 2), ('g', 2), ('l', 0), ('n', 0)]\n",
      "--------------------------------------------------------------------------------------------\n"
     ]
    }
   ],
   "source": [
    "    #graph.add_edge(('a','c'))\n",
    "    print(graph.vertex_degree())\n",
    "    graph.add_vertex('l')\n",
    "    graph.add_vertex('n')\n",
    "    print(\"--------------------------------------------------------------------------------------------\")"
   ]
  },
  {
   "cell_type": "code",
   "execution_count": 333,
   "metadata": {},
   "outputs": [
    {
     "name": "stdout",
     "output_type": "stream",
     "text": [
      "[('l', 0), ('n', 0)]\n"
     ]
    }
   ],
   "source": [
    "  print(graph.find_isolated_vertices())"
   ]
  },
  {
   "cell_type": "code",
   "execution_count": 336,
   "metadata": {},
   "outputs": [
    {
     "name": "stdout",
     "output_type": "stream",
     "text": [
      "[{'c', 'a'}, {'a', 'd'}, {'a', 'g'}, {'c', 'b'}, {'b', 'f'}, {'c', 'd'}, {'c', 'f'}, {'e', 'd'}, {'d', 'g'}]\n",
      "9\n"
     ]
    }
   ],
   "source": [
    "    print(graph.edges())\n",
    "    graph.density()"
   ]
  },
  {
   "cell_type": "code",
   "execution_count": null,
   "metadata": {},
   "outputs": [],
   "source": []
  },
  {
   "cell_type": "code",
   "execution_count": null,
   "metadata": {},
   "outputs": [],
   "source": []
  }
 ],
 "metadata": {
  "kernelspec": {
   "display_name": "Python 3",
   "language": "python",
   "name": "python3"
  },
  "language_info": {
   "codemirror_mode": {
    "name": "ipython",
    "version": 3
   },
   "file_extension": ".py",
   "mimetype": "text/x-python",
   "name": "python",
   "nbconvert_exporter": "python",
   "pygments_lexer": "ipython3",
   "version": "3.7.0"
  }
 },
 "nbformat": 4,
 "nbformat_minor": 2
}
